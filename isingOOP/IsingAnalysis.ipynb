{
 "cells": [
  {
   "cell_type": "code",
   "execution_count": 1,
   "id": "a36abddc-66d1-4391-a42c-d86982e59fff",
   "metadata": {},
   "outputs": [],
   "source": [
    "import os \n",
    "import numpy as np\n",
    "import pandas as pd\n",
    "import seaborn as sns"
   ]
  },
  {
   "cell_type": "code",
   "execution_count": 2,
   "id": "dba5a32f-1a8f-4660-8d3d-75a9a95908d1",
   "metadata": {},
   "outputs": [],
   "source": [
    "neq = 10000"
   ]
  },
  {
   "cell_type": "code",
   "execution_count": 3,
   "id": "60f7570d-ef90-407a-ba58-3573ef8fef03",
   "metadata": {},
   "outputs": [],
   "source": [
    "wkdir = os.getcwd()\n",
    "datadir = wkdir + \"/data/\""
   ]
  },
  {
   "cell_type": "code",
   "execution_count": 4,
   "id": "eb746b85-26a1-4ff7-b869-c0cfdec40adc",
   "metadata": {},
   "outputs": [],
   "source": [
    "all_data_files = []\n",
    "for datafile in os.listdir(datadir):\n",
    "    if datafile.endswith('.csv'):\n",
    "        all_data_files.append(datafile)"
   ]
  },
  {
   "cell_type": "code",
   "execution_count": 5,
   "id": "16483e97-c3a7-4ae9-a141-a9148b52967d",
   "metadata": {},
   "outputs": [
    {
     "data": {
      "text/plain": [
       "['ising_MC_T_1.200_J_1.000_L_10.csv',\n",
       " 'ising_MC_T_2.600_J_1.000_L_10.csv',\n",
       " 'ising_MC_T_3.600_J_1.000_L_10.csv',\n",
       " 'ising_MC_T_3.400_J_1.000_L_10.csv',\n",
       " 'ising_MC_T_1.400_J_1.000_L_10.csv',\n",
       " 'ising_MC_T_1.600_J_1.000_L_10.csv',\n",
       " 'ising_MC_T_2.200_J_1.000_L_10.csv',\n",
       " 'ising_MC_T_0.800_J_1.000_L_10.csv',\n",
       " 'ising_MC_T_0.200_J_1.000_L_10.csv',\n",
       " 'ising_MC_T_2.800_J_1.000_L_10.csv',\n",
       " 'ising_MC_T_0.600_J_1.000_L_10.csv',\n",
       " 'ising_MC_T_2.400_J_1.000_L_10.csv',\n",
       " 'ising_MC_T_2.000_J_1.000_L_10.csv',\n",
       " 'ising_MC_T_3.200_J_1.000_L_10.csv',\n",
       " 'ising_MC_T_0.400_J_1.000_L_10.csv',\n",
       " 'ising_MC_T_1.800_J_1.000_L_10.csv',\n",
       " 'ising_MC_T_3.000_J_1.000_L_10.csv',\n",
       " 'ising_MC_T_1.000_J_1.000_L_10.csv',\n",
       " 'ising_MC_T_3.800_J_1.000_L_10.csv',\n",
       " 'ising_MC_T_4.000_J_1.000_L_10.csv']"
      ]
     },
     "execution_count": 5,
     "metadata": {},
     "output_type": "execute_result"
    }
   ],
   "source": [
    "all_data_files"
   ]
  },
  {
   "cell_type": "code",
   "execution_count": 6,
   "id": "bd0fb8e2-b2e5-467d-9f15-c11612bdf7a2",
   "metadata": {},
   "outputs": [
    {
     "name": "stdout",
     "output_type": "stream",
     "text": [
      "There were 0 NaN entries in all data files\n"
     ]
    }
   ],
   "source": [
    "df = pd.read_csv(datadir+all_data_files[0])\n",
    "for i in range(1,len(all_data_files)):\n",
    "    df2 = pd.read_csv(datadir+all_data_files[i])\n",
    "    df = pd.concat([df, df2])\n",
    "nulldata = df[df['T'].isna()]\n",
    "print(\"There were \"+str(len(nulldata))+\" NaN entries in all data files\")\n",
    "#df.describe()\n",
    "df = df.dropna()\n",
    "df[\"T/J\"] = df[\"T\"]/(df[\"J\"])\n",
    "df[\"E/N\"] = df[\"E\"]/(df[\"L\"]*df[\"L\"])"
   ]
  },
  {
   "cell_type": "code",
   "execution_count": 7,
   "id": "39e037f6-0b25-46f4-a026-b60897e4f270",
   "metadata": {},
   "outputs": [
    {
     "data": {
      "text/html": [
       "<div>\n",
       "<style scoped>\n",
       "    .dataframe tbody tr th:only-of-type {\n",
       "        vertical-align: middle;\n",
       "    }\n",
       "\n",
       "    .dataframe tbody tr th {\n",
       "        vertical-align: top;\n",
       "    }\n",
       "\n",
       "    .dataframe thead th {\n",
       "        text-align: right;\n",
       "    }\n",
       "</style>\n",
       "<table border=\"1\" class=\"dataframe\">\n",
       "  <thead>\n",
       "    <tr style=\"text-align: right;\">\n",
       "      <th></th>\n",
       "      <th>step</th>\n",
       "      <th>E</th>\n",
       "      <th>T</th>\n",
       "      <th>J</th>\n",
       "      <th>L</th>\n",
       "    </tr>\n",
       "  </thead>\n",
       "  <tbody>\n",
       "  </tbody>\n",
       "</table>\n",
       "</div>"
      ],
      "text/plain": [
       "Empty DataFrame\n",
       "Columns: [step, E, T, J, L]\n",
       "Index: []"
      ]
     },
     "execution_count": 7,
     "metadata": {},
     "output_type": "execute_result"
    }
   ],
   "source": [
    "nulldata"
   ]
  },
  {
   "cell_type": "code",
   "execution_count": 8,
   "id": "34525f09-e6f9-45c2-ba2b-ba7f4a76c2b3",
   "metadata": {},
   "outputs": [
    {
     "data": {
      "text/html": [
       "<div>\n",
       "<style scoped>\n",
       "    .dataframe tbody tr th:only-of-type {\n",
       "        vertical-align: middle;\n",
       "    }\n",
       "\n",
       "    .dataframe tbody tr th {\n",
       "        vertical-align: top;\n",
       "    }\n",
       "\n",
       "    .dataframe thead th {\n",
       "        text-align: right;\n",
       "    }\n",
       "</style>\n",
       "<table border=\"1\" class=\"dataframe\">\n",
       "  <thead>\n",
       "    <tr style=\"text-align: right;\">\n",
       "      <th></th>\n",
       "      <th>step</th>\n",
       "      <th>E</th>\n",
       "      <th>T</th>\n",
       "      <th>J</th>\n",
       "      <th>L</th>\n",
       "      <th>T/J</th>\n",
       "      <th>E/N</th>\n",
       "    </tr>\n",
       "  </thead>\n",
       "  <tbody>\n",
       "    <tr>\n",
       "      <th>0</th>\n",
       "      <td>0</td>\n",
       "      <td>-160.000000</td>\n",
       "      <td>1.2</td>\n",
       "      <td>1.0</td>\n",
       "      <td>10</td>\n",
       "      <td>1.2</td>\n",
       "      <td>-1.600000</td>\n",
       "    </tr>\n",
       "    <tr>\n",
       "      <th>1</th>\n",
       "      <td>1</td>\n",
       "      <td>-286.666667</td>\n",
       "      <td>1.2</td>\n",
       "      <td>1.0</td>\n",
       "      <td>10</td>\n",
       "      <td>1.2</td>\n",
       "      <td>-2.866667</td>\n",
       "    </tr>\n",
       "    <tr>\n",
       "      <th>2</th>\n",
       "      <td>2</td>\n",
       "      <td>-294.666667</td>\n",
       "      <td>1.2</td>\n",
       "      <td>1.0</td>\n",
       "      <td>10</td>\n",
       "      <td>1.2</td>\n",
       "      <td>-2.946667</td>\n",
       "    </tr>\n",
       "    <tr>\n",
       "      <th>3</th>\n",
       "      <td>3</td>\n",
       "      <td>-310.666667</td>\n",
       "      <td>1.2</td>\n",
       "      <td>1.0</td>\n",
       "      <td>10</td>\n",
       "      <td>1.2</td>\n",
       "      <td>-3.106667</td>\n",
       "    </tr>\n",
       "    <tr>\n",
       "      <th>4</th>\n",
       "      <td>4</td>\n",
       "      <td>-326.666667</td>\n",
       "      <td>1.2</td>\n",
       "      <td>1.0</td>\n",
       "      <td>10</td>\n",
       "      <td>1.2</td>\n",
       "      <td>-3.266667</td>\n",
       "    </tr>\n",
       "  </tbody>\n",
       "</table>\n",
       "</div>"
      ],
      "text/plain": [
       "   step           E    T    J   L  T/J       E/N\n",
       "0     0 -160.000000  1.2  1.0  10  1.2 -1.600000\n",
       "1     1 -286.666667  1.2  1.0  10  1.2 -2.866667\n",
       "2     2 -294.666667  1.2  1.0  10  1.2 -2.946667\n",
       "3     3 -310.666667  1.2  1.0  10  1.2 -3.106667\n",
       "4     4 -326.666667  1.2  1.0  10  1.2 -3.266667"
      ]
     },
     "execution_count": 8,
     "metadata": {},
     "output_type": "execute_result"
    }
   ],
   "source": [
    "df.head()"
   ]
  },
  {
   "cell_type": "code",
   "execution_count": 9,
   "id": "5ddac5b3-2da0-4ae9-9598-9e5cc8e9c868",
   "metadata": {},
   "outputs": [
    {
     "data": {
      "text/html": [
       "<div>\n",
       "<style scoped>\n",
       "    .dataframe tbody tr th:only-of-type {\n",
       "        vertical-align: middle;\n",
       "    }\n",
       "\n",
       "    .dataframe tbody tr th {\n",
       "        vertical-align: top;\n",
       "    }\n",
       "\n",
       "    .dataframe thead th {\n",
       "        text-align: right;\n",
       "    }\n",
       "</style>\n",
       "<table border=\"1\" class=\"dataframe\">\n",
       "  <thead>\n",
       "    <tr style=\"text-align: right;\">\n",
       "      <th></th>\n",
       "      <th>step</th>\n",
       "      <th>E</th>\n",
       "      <th>T</th>\n",
       "      <th>J</th>\n",
       "      <th>L</th>\n",
       "      <th>T/J</th>\n",
       "      <th>E/N</th>\n",
       "    </tr>\n",
       "  </thead>\n",
       "  <tbody>\n",
       "    <tr>\n",
       "      <th>count</th>\n",
       "      <td>4.000000e+06</td>\n",
       "      <td>4.000000e+06</td>\n",
       "      <td>4.000000e+06</td>\n",
       "      <td>4000000.0</td>\n",
       "      <td>4000000.0</td>\n",
       "      <td>4.000000e+06</td>\n",
       "      <td>4.000000e+06</td>\n",
       "    </tr>\n",
       "    <tr>\n",
       "      <th>mean</th>\n",
       "      <td>9.999950e+04</td>\n",
       "      <td>-2.905702e+02</td>\n",
       "      <td>2.100000e+00</td>\n",
       "      <td>1.0</td>\n",
       "      <td>10.0</td>\n",
       "      <td>2.100000e+00</td>\n",
       "      <td>-2.905702e+00</td>\n",
       "    </tr>\n",
       "    <tr>\n",
       "      <th>std</th>\n",
       "      <td>5.773503e+04</td>\n",
       "      <td>1.244053e+02</td>\n",
       "      <td>1.153256e+00</td>\n",
       "      <td>0.0</td>\n",
       "      <td>0.0</td>\n",
       "      <td>1.153256e+00</td>\n",
       "      <td>1.244053e+00</td>\n",
       "    </tr>\n",
       "    <tr>\n",
       "      <th>min</th>\n",
       "      <td>0.000000e+00</td>\n",
       "      <td>-4.400000e+02</td>\n",
       "      <td>2.000000e-01</td>\n",
       "      <td>1.0</td>\n",
       "      <td>10.0</td>\n",
       "      <td>2.000000e-01</td>\n",
       "      <td>-4.400000e+00</td>\n",
       "    </tr>\n",
       "    <tr>\n",
       "      <th>25%</th>\n",
       "      <td>4.999975e+04</td>\n",
       "      <td>-4.066667e+02</td>\n",
       "      <td>1.150000e+00</td>\n",
       "      <td>1.0</td>\n",
       "      <td>10.0</td>\n",
       "      <td>1.150000e+00</td>\n",
       "      <td>-4.066667e+00</td>\n",
       "    </tr>\n",
       "    <tr>\n",
       "      <th>50%</th>\n",
       "      <td>9.999950e+04</td>\n",
       "      <td>-3.396364e+02</td>\n",
       "      <td>2.100000e+00</td>\n",
       "      <td>1.0</td>\n",
       "      <td>10.0</td>\n",
       "      <td>2.100000e+00</td>\n",
       "      <td>-3.396364e+00</td>\n",
       "    </tr>\n",
       "    <tr>\n",
       "      <th>75%</th>\n",
       "      <td>1.499992e+05</td>\n",
       "      <td>-1.615385e+02</td>\n",
       "      <td>3.050000e+00</td>\n",
       "      <td>1.0</td>\n",
       "      <td>10.0</td>\n",
       "      <td>3.050000e+00</td>\n",
       "      <td>-1.615385e+00</td>\n",
       "    </tr>\n",
       "    <tr>\n",
       "      <th>max</th>\n",
       "      <td>1.999990e+05</td>\n",
       "      <td>4.700000e+01</td>\n",
       "      <td>4.000000e+00</td>\n",
       "      <td>1.0</td>\n",
       "      <td>10.0</td>\n",
       "      <td>4.000000e+00</td>\n",
       "      <td>4.700000e-01</td>\n",
       "    </tr>\n",
       "  </tbody>\n",
       "</table>\n",
       "</div>"
      ],
      "text/plain": [
       "               step             E             T          J          L  \\\n",
       "count  4.000000e+06  4.000000e+06  4.000000e+06  4000000.0  4000000.0   \n",
       "mean   9.999950e+04 -2.905702e+02  2.100000e+00        1.0       10.0   \n",
       "std    5.773503e+04  1.244053e+02  1.153256e+00        0.0        0.0   \n",
       "min    0.000000e+00 -4.400000e+02  2.000000e-01        1.0       10.0   \n",
       "25%    4.999975e+04 -4.066667e+02  1.150000e+00        1.0       10.0   \n",
       "50%    9.999950e+04 -3.396364e+02  2.100000e+00        1.0       10.0   \n",
       "75%    1.499992e+05 -1.615385e+02  3.050000e+00        1.0       10.0   \n",
       "max    1.999990e+05  4.700000e+01  4.000000e+00        1.0       10.0   \n",
       "\n",
       "                T/J           E/N  \n",
       "count  4.000000e+06  4.000000e+06  \n",
       "mean   2.100000e+00 -2.905702e+00  \n",
       "std    1.153256e+00  1.244053e+00  \n",
       "min    2.000000e-01 -4.400000e+00  \n",
       "25%    1.150000e+00 -4.066667e+00  \n",
       "50%    2.100000e+00 -3.396364e+00  \n",
       "75%    3.050000e+00 -1.615385e+00  \n",
       "max    4.000000e+00  4.700000e-01  "
      ]
     },
     "execution_count": 9,
     "metadata": {},
     "output_type": "execute_result"
    }
   ],
   "source": [
    "df.describe()"
   ]
  },
  {
   "cell_type": "code",
   "execution_count": 10,
   "id": "ebe98c24-1517-4185-be31-ad3558440cb5",
   "metadata": {},
   "outputs": [],
   "source": [
    "means = df[df[\"step\"]>neq].groupby([\"T/J\"]).mean()"
   ]
  },
  {
   "cell_type": "code",
   "execution_count": 11,
   "id": "42d1d7fd-01fb-4cee-9fff-c47e83626b15",
   "metadata": {},
   "outputs": [
    {
     "data": {
      "text/html": [
       "<div>\n",
       "<style scoped>\n",
       "    .dataframe tbody tr th:only-of-type {\n",
       "        vertical-align: middle;\n",
       "    }\n",
       "\n",
       "    .dataframe tbody tr th {\n",
       "        vertical-align: top;\n",
       "    }\n",
       "\n",
       "    .dataframe thead th {\n",
       "        text-align: right;\n",
       "    }\n",
       "</style>\n",
       "<table border=\"1\" class=\"dataframe\">\n",
       "  <thead>\n",
       "    <tr style=\"text-align: right;\">\n",
       "      <th></th>\n",
       "      <th>step</th>\n",
       "      <th>E</th>\n",
       "      <th>T</th>\n",
       "      <th>J</th>\n",
       "      <th>L</th>\n",
       "      <th>E/N</th>\n",
       "    </tr>\n",
       "    <tr>\n",
       "      <th>T/J</th>\n",
       "      <th></th>\n",
       "      <th></th>\n",
       "      <th></th>\n",
       "      <th></th>\n",
       "      <th></th>\n",
       "      <th></th>\n",
       "    </tr>\n",
       "  </thead>\n",
       "  <tbody>\n",
       "    <tr>\n",
       "      <th>0.2</th>\n",
       "      <td>105000.0</td>\n",
       "      <td>-440.000000</td>\n",
       "      <td>0.2</td>\n",
       "      <td>1.0</td>\n",
       "      <td>10.0</td>\n",
       "      <td>-4.400000</td>\n",
       "    </tr>\n",
       "    <tr>\n",
       "      <th>0.4</th>\n",
       "      <td>105000.0</td>\n",
       "      <td>-420.000000</td>\n",
       "      <td>0.4</td>\n",
       "      <td>1.0</td>\n",
       "      <td>10.0</td>\n",
       "      <td>-4.200000</td>\n",
       "    </tr>\n",
       "    <tr>\n",
       "      <th>0.6</th>\n",
       "      <td>105000.0</td>\n",
       "      <td>-413.330975</td>\n",
       "      <td>0.6</td>\n",
       "      <td>1.0</td>\n",
       "      <td>10.0</td>\n",
       "      <td>-4.133310</td>\n",
       "    </tr>\n",
       "    <tr>\n",
       "      <th>0.8</th>\n",
       "      <td>105000.0</td>\n",
       "      <td>-409.922142</td>\n",
       "      <td>0.8</td>\n",
       "      <td>1.0</td>\n",
       "      <td>10.0</td>\n",
       "      <td>-4.099221</td>\n",
       "    </tr>\n",
       "    <tr>\n",
       "      <th>1.0</th>\n",
       "      <td>105000.0</td>\n",
       "      <td>-407.434586</td>\n",
       "      <td>1.0</td>\n",
       "      <td>1.0</td>\n",
       "      <td>10.0</td>\n",
       "      <td>-4.074346</td>\n",
       "    </tr>\n",
       "  </tbody>\n",
       "</table>\n",
       "</div>"
      ],
      "text/plain": [
       "         step           E    T    J     L       E/N\n",
       "T/J                                                \n",
       "0.2  105000.0 -440.000000  0.2  1.0  10.0 -4.400000\n",
       "0.4  105000.0 -420.000000  0.4  1.0  10.0 -4.200000\n",
       "0.6  105000.0 -413.330975  0.6  1.0  10.0 -4.133310\n",
       "0.8  105000.0 -409.922142  0.8  1.0  10.0 -4.099221\n",
       "1.0  105000.0 -407.434586  1.0  1.0  10.0 -4.074346"
      ]
     },
     "execution_count": 11,
     "metadata": {},
     "output_type": "execute_result"
    }
   ],
   "source": [
    "means.head()"
   ]
  },
  {
   "cell_type": "code",
   "execution_count": 16,
   "id": "b45ccaa1-2944-4c7a-ac4e-c15198c45b16",
   "metadata": {},
   "outputs": [
    {
     "data": {
      "image/png": "[encoded data removed]",
      "text/plain": [
       "<Figure size 432x288 with 1 Axes>"
      ]
     },
     "metadata": {
      "needs_background": "light"
     },
     "output_type": "display_data"
    }
   ],
   "source": [
    "ax = sns.scatterplot(data = df[df[\"step\"]>neq], x = \"T/J\", y = \"E/N\", alpha = 0.005)\n",
    "ax = sns.scatterplot(data = means, x = \"T/J\", y = \"E/N\", color = \"black\", alpha = 1)"
   ]
  },
  {
   "cell_type": "code",
   "execution_count": null,
   "id": "d6ce153a-4179-49e7-a4fd-cc26cb00899d",
   "metadata": {},
   "outputs": [],
   "source": []
  }
 ],
 "metadata": {
  "kernelspec": {
   "display_name": "Python 3 (ipykernel)",
   "language": "python",
   "name": "python3"
  },
  "language_info": {
   "codemirror_mode": {
    "name": "ipython",
    "version": 3
   },
   "file_extension": ".py",
   "mimetype": "text/x-python",
   "name": "python",
   "nbconvert_exporter": "python",
   "pygments_lexer": "ipython3",
   "version": "3.8.10"
  }
 },
 "nbformat": 4,
 "nbformat_minor": 5
}
