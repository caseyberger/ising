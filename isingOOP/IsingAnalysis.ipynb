{
 "cells": [
  {
   "cell_type": "code",
   "execution_count": 1,
   "id": "a36abddc-66d1-4391-a42c-d86982e59fff",
   "metadata": {},
   "outputs": [],
   "source": [
    "import os \n",
    "import numpy as np\n",
    "import pandas as pd\n",
    "import seaborn as sns"
   ]
  },
  {
   "cell_type": "code",
   "execution_count": 2,
   "id": "dba5a32f-1a8f-4660-8d3d-75a9a95908d1",
   "metadata": {},
   "outputs": [],
   "source": [
    "neq = 10000"
   ]
  },
  {
   "cell_type": "code",
   "execution_count": 3,
   "id": "60f7570d-ef90-407a-ba58-3573ef8fef03",
   "metadata": {},
   "outputs": [],
   "source": [
    "wkdir = os.getcwd()\n",
    "datadir = wkdir + \"/data/\""
   ]
  },
  {
   "cell_type": "code",
   "execution_count": 4,
   "id": "eb746b85-26a1-4ff7-b869-c0cfdec40adc",
   "metadata": {},
   "outputs": [],
   "source": [
    "all_data_files = []\n",
    "for datafile in os.listdir(datadir):\n",
    "    if datafile.endswith('.csv'):\n",
    "        all_data_files.append(datafile)"
   ]
  },
  {
   "cell_type": "code",
   "execution_count": 5,
   "id": "16483e97-c3a7-4ae9-a141-a9148b52967d",
   "metadata": {},
   "outputs": [
    {
     "data": {
      "text/plain": [
       "['ising_MC_T_1.200_J_1.000_L_10.csv',\n",
       " 'ising_MC_T_2.600_J_1.000_L_10.csv',\n",
       " 'ising_MC_T_3.600_J_1.000_L_10.csv',\n",
       " 'ising_MC_T_3.400_J_1.000_L_10.csv',\n",
       " 'ising_MC_T_1.400_J_1.000_L_10.csv',\n",
       " 'ising_MC_T_1.600_J_1.000_L_10.csv',\n",
       " 'ising_MC_T_2.200_J_1.000_L_10.csv',\n",
       " 'ising_MC_T_0.800_J_1.000_L_10.csv',\n",
       " 'ising_MC_T_0.200_J_1.000_L_10.csv',\n",
       " 'ising_MC_T_2.800_J_1.000_L_10.csv',\n",
       " 'ising_MC_T_0.600_J_1.000_L_10.csv',\n",
       " 'ising_MC_T_2.400_J_1.000_L_10.csv',\n",
       " 'ising_MC_T_2.000_J_1.000_L_10.csv',\n",
       " 'ising_MC_T_3.200_J_1.000_L_10.csv',\n",
       " 'ising_MC_T_0.400_J_1.000_L_10.csv',\n",
       " 'ising_MC_T_1.800_J_1.000_L_10.csv',\n",
       " 'ising_MC_T_3.000_J_1.000_L_10.csv',\n",
       " 'ising_MC_T_1.000_J_1.000_L_10.csv',\n",
       " 'ising_MC_T_3.800_J_1.000_L_10.csv',\n",
       " 'ising_MC_T_4.000_J_1.000_L_10.csv']"
      ]
     },
     "execution_count": 5,
     "metadata": {},
     "output_type": "execute_result"
    }
   ],
   "source": [
    "all_data_files"
   ]
  },
  {
   "cell_type": "code",
   "execution_count": 18,
   "id": "bd0fb8e2-b2e5-467d-9f15-c11612bdf7a2",
   "metadata": {},
   "outputs": [
    {
     "name": "stdout",
     "output_type": "stream",
     "text": [
      "There were 0 NaN entries in all data files\n"
     ]
    }
   ],
   "source": [
    "df = pd.read_csv(datadir+all_data_files[0])\n",
    "for i in range(1,len(all_data_files)):\n",
    "    df2 = pd.read_csv(datadir+all_data_files[i])\n",
    "    df = pd.concat([df, df2])\n",
    "nulldata = df[df['T'].isna()]\n",
    "print(\"There were \"+str(len(nulldata))+\" NaN entries in all data files\")\n",
    "#df.describe()\n",
    "df = df.dropna()\n",
    "df[\"T/J\"] = df[\"T\"]/(df[\"J\"])\n",
    "df[\"E/N\"] = df[\"E\"]/(df[\"L\"]*df[\"L\"])\n",
    "df[\"M/N\"] = np.abs(df[\"M\"])/(df[\"L\"]*df[\"L\"])"
   ]
  },
  {
   "cell_type": "code",
   "execution_count": 19,
   "id": "39e037f6-0b25-46f4-a026-b60897e4f270",
   "metadata": {},
   "outputs": [],
   "source": [
    "if len(nulldata) >0:\n",
    "    print(nulldata)"
   ]
  },
  {
   "cell_type": "code",
   "execution_count": 20,
   "id": "34525f09-e6f9-45c2-ba2b-ba7f4a76c2b3",
   "metadata": {},
   "outputs": [
    {
     "data": {
      "text/html": [
       "<div>\n",
       "<style scoped>\n",
       "    .dataframe tbody tr th:only-of-type {\n",
       "        vertical-align: middle;\n",
       "    }\n",
       "\n",
       "    .dataframe tbody tr th {\n",
       "        vertical-align: top;\n",
       "    }\n",
       "\n",
       "    .dataframe thead th {\n",
       "        text-align: right;\n",
       "    }\n",
       "</style>\n",
       "<table border=\"1\" class=\"dataframe\">\n",
       "  <thead>\n",
       "    <tr style=\"text-align: right;\">\n",
       "      <th></th>\n",
       "      <th>step</th>\n",
       "      <th>E</th>\n",
       "      <th>M</th>\n",
       "      <th>T</th>\n",
       "      <th>J</th>\n",
       "      <th>L</th>\n",
       "      <th>T/J</th>\n",
       "      <th>E/N</th>\n",
       "      <th>M/N</th>\n",
       "    </tr>\n",
       "  </thead>\n",
       "  <tbody>\n",
       "    <tr>\n",
       "      <th>0</th>\n",
       "      <td>0</td>\n",
       "      <td>-160.0</td>\n",
       "      <td>-12.0</td>\n",
       "      <td>1.2</td>\n",
       "      <td>1.0</td>\n",
       "      <td>10</td>\n",
       "      <td>1.2</td>\n",
       "      <td>-1.60</td>\n",
       "      <td>0.12</td>\n",
       "    </tr>\n",
       "    <tr>\n",
       "      <th>1</th>\n",
       "      <td>1</td>\n",
       "      <td>-280.0</td>\n",
       "      <td>-22.0</td>\n",
       "      <td>1.2</td>\n",
       "      <td>1.0</td>\n",
       "      <td>10</td>\n",
       "      <td>1.2</td>\n",
       "      <td>-2.80</td>\n",
       "      <td>0.22</td>\n",
       "    </tr>\n",
       "    <tr>\n",
       "      <th>2</th>\n",
       "      <td>2</td>\n",
       "      <td>-288.0</td>\n",
       "      <td>-30.0</td>\n",
       "      <td>1.2</td>\n",
       "      <td>1.0</td>\n",
       "      <td>10</td>\n",
       "      <td>1.2</td>\n",
       "      <td>-2.88</td>\n",
       "      <td>0.30</td>\n",
       "    </tr>\n",
       "    <tr>\n",
       "      <th>3</th>\n",
       "      <td>3</td>\n",
       "      <td>-304.0</td>\n",
       "      <td>-52.0</td>\n",
       "      <td>1.2</td>\n",
       "      <td>1.0</td>\n",
       "      <td>10</td>\n",
       "      <td>1.2</td>\n",
       "      <td>-3.04</td>\n",
       "      <td>0.52</td>\n",
       "    </tr>\n",
       "    <tr>\n",
       "      <th>4</th>\n",
       "      <td>4</td>\n",
       "      <td>-320.0</td>\n",
       "      <td>-72.0</td>\n",
       "      <td>1.2</td>\n",
       "      <td>1.0</td>\n",
       "      <td>10</td>\n",
       "      <td>1.2</td>\n",
       "      <td>-3.20</td>\n",
       "      <td>0.72</td>\n",
       "    </tr>\n",
       "  </tbody>\n",
       "</table>\n",
       "</div>"
      ],
      "text/plain": [
       "   step      E     M    T    J   L  T/J   E/N   M/N\n",
       "0     0 -160.0 -12.0  1.2  1.0  10  1.2 -1.60  0.12\n",
       "1     1 -280.0 -22.0  1.2  1.0  10  1.2 -2.80  0.22\n",
       "2     2 -288.0 -30.0  1.2  1.0  10  1.2 -2.88  0.30\n",
       "3     3 -304.0 -52.0  1.2  1.0  10  1.2 -3.04  0.52\n",
       "4     4 -320.0 -72.0  1.2  1.0  10  1.2 -3.20  0.72"
      ]
     },
     "execution_count": 20,
     "metadata": {},
     "output_type": "execute_result"
    }
   ],
   "source": [
    "df.head()"
   ]
  },
  {
   "cell_type": "code",
   "execution_count": 21,
   "id": "5ddac5b3-2da0-4ae9-9598-9e5cc8e9c868",
   "metadata": {},
   "outputs": [
    {
     "data": {
      "text/html": [
       "<div>\n",
       "<style scoped>\n",
       "    .dataframe tbody tr th:only-of-type {\n",
       "        vertical-align: middle;\n",
       "    }\n",
       "\n",
       "    .dataframe tbody tr th {\n",
       "        vertical-align: top;\n",
       "    }\n",
       "\n",
       "    .dataframe thead th {\n",
       "        text-align: right;\n",
       "    }\n",
       "</style>\n",
       "<table border=\"1\" class=\"dataframe\">\n",
       "  <thead>\n",
       "    <tr style=\"text-align: right;\">\n",
       "      <th></th>\n",
       "      <th>step</th>\n",
       "      <th>E</th>\n",
       "      <th>M</th>\n",
       "      <th>T</th>\n",
       "      <th>J</th>\n",
       "      <th>L</th>\n",
       "      <th>T/J</th>\n",
       "      <th>E/N</th>\n",
       "      <th>M/N</th>\n",
       "    </tr>\n",
       "  </thead>\n",
       "  <tbody>\n",
       "    <tr>\n",
       "      <th>count</th>\n",
       "      <td>4.000000e+06</td>\n",
       "      <td>4.000000e+06</td>\n",
       "      <td>4.000000e+06</td>\n",
       "      <td>4.000000e+06</td>\n",
       "      <td>4000000.0</td>\n",
       "      <td>4000000.0</td>\n",
       "      <td>4.000000e+06</td>\n",
       "      <td>4.000000e+06</td>\n",
       "      <td>4.000000e+06</td>\n",
       "    </tr>\n",
       "    <tr>\n",
       "      <th>mean</th>\n",
       "      <td>9.999950e+04</td>\n",
       "      <td>-2.839578e+02</td>\n",
       "      <td>9.592033e+00</td>\n",
       "      <td>2.100000e+00</td>\n",
       "      <td>1.0</td>\n",
       "      <td>10.0</td>\n",
       "      <td>2.100000e+00</td>\n",
       "      <td>-2.839578e+00</td>\n",
       "      <td>6.654985e-01</td>\n",
       "    </tr>\n",
       "    <tr>\n",
       "      <th>std</th>\n",
       "      <td>5.773503e+04</td>\n",
       "      <td>1.191958e+02</td>\n",
       "      <td>7.573293e+01</td>\n",
       "      <td>1.153256e+00</td>\n",
       "      <td>0.0</td>\n",
       "      <td>0.0</td>\n",
       "      <td>1.153256e+00</td>\n",
       "      <td>1.191958e+00</td>\n",
       "      <td>3.739785e-01</td>\n",
       "    </tr>\n",
       "    <tr>\n",
       "      <th>min</th>\n",
       "      <td>0.000000e+00</td>\n",
       "      <td>-4.000000e+02</td>\n",
       "      <td>-1.000000e+02</td>\n",
       "      <td>2.000000e-01</td>\n",
       "      <td>1.0</td>\n",
       "      <td>10.0</td>\n",
       "      <td>2.000000e-01</td>\n",
       "      <td>-4.000000e+00</td>\n",
       "      <td>0.000000e+00</td>\n",
       "    </tr>\n",
       "    <tr>\n",
       "      <th>25%</th>\n",
       "      <td>4.999975e+04</td>\n",
       "      <td>-4.000000e+02</td>\n",
       "      <td>-6.400000e+01</td>\n",
       "      <td>1.150000e+00</td>\n",
       "      <td>1.0</td>\n",
       "      <td>10.0</td>\n",
       "      <td>1.150000e+00</td>\n",
       "      <td>-4.000000e+00</td>\n",
       "      <td>2.600000e-01</td>\n",
       "    </tr>\n",
       "    <tr>\n",
       "      <th>50%</th>\n",
       "      <td>9.999950e+04</td>\n",
       "      <td>-3.360000e+02</td>\n",
       "      <td>1.000000e+01</td>\n",
       "      <td>2.100000e+00</td>\n",
       "      <td>1.0</td>\n",
       "      <td>10.0</td>\n",
       "      <td>2.100000e+00</td>\n",
       "      <td>-3.360000e+00</td>\n",
       "      <td>9.000000e-01</td>\n",
       "    </tr>\n",
       "    <tr>\n",
       "      <th>75%</th>\n",
       "      <td>1.499992e+05</td>\n",
       "      <td>-1.600000e+02</td>\n",
       "      <td>9.800000e+01</td>\n",
       "      <td>3.050000e+00</td>\n",
       "      <td>1.0</td>\n",
       "      <td>10.0</td>\n",
       "      <td>3.050000e+00</td>\n",
       "      <td>-1.600000e+00</td>\n",
       "      <td>1.000000e+00</td>\n",
       "    </tr>\n",
       "    <tr>\n",
       "      <th>max</th>\n",
       "      <td>1.999990e+05</td>\n",
       "      <td>4.800000e+01</td>\n",
       "      <td>1.000000e+02</td>\n",
       "      <td>4.000000e+00</td>\n",
       "      <td>1.0</td>\n",
       "      <td>10.0</td>\n",
       "      <td>4.000000e+00</td>\n",
       "      <td>4.800000e-01</td>\n",
       "      <td>1.000000e+00</td>\n",
       "    </tr>\n",
       "  </tbody>\n",
       "</table>\n",
       "</div>"
      ],
      "text/plain": [
       "               step             E             M             T          J  \\\n",
       "count  4.000000e+06  4.000000e+06  4.000000e+06  4.000000e+06  4000000.0   \n",
       "mean   9.999950e+04 -2.839578e+02  9.592033e+00  2.100000e+00        1.0   \n",
       "std    5.773503e+04  1.191958e+02  7.573293e+01  1.153256e+00        0.0   \n",
       "min    0.000000e+00 -4.000000e+02 -1.000000e+02  2.000000e-01        1.0   \n",
       "25%    4.999975e+04 -4.000000e+02 -6.400000e+01  1.150000e+00        1.0   \n",
       "50%    9.999950e+04 -3.360000e+02  1.000000e+01  2.100000e+00        1.0   \n",
       "75%    1.499992e+05 -1.600000e+02  9.800000e+01  3.050000e+00        1.0   \n",
       "max    1.999990e+05  4.800000e+01  1.000000e+02  4.000000e+00        1.0   \n",
       "\n",
       "               L           T/J           E/N           M/N  \n",
       "count  4000000.0  4.000000e+06  4.000000e+06  4.000000e+06  \n",
       "mean        10.0  2.100000e+00 -2.839578e+00  6.654985e-01  \n",
       "std          0.0  1.153256e+00  1.191958e+00  3.739785e-01  \n",
       "min         10.0  2.000000e-01 -4.000000e+00  0.000000e+00  \n",
       "25%         10.0  1.150000e+00 -4.000000e+00  2.600000e-01  \n",
       "50%         10.0  2.100000e+00 -3.360000e+00  9.000000e-01  \n",
       "75%         10.0  3.050000e+00 -1.600000e+00  1.000000e+00  \n",
       "max         10.0  4.000000e+00  4.800000e-01  1.000000e+00  "
      ]
     },
     "execution_count": 21,
     "metadata": {},
     "output_type": "execute_result"
    }
   ],
   "source": [
    "df.describe()"
   ]
  },
  {
   "cell_type": "code",
   "execution_count": 22,
   "id": "ebe98c24-1517-4185-be31-ad3558440cb5",
   "metadata": {},
   "outputs": [],
   "source": [
    "means = df[df[\"step\"]>neq].groupby([\"T/J\"]).mean()"
   ]
  },
  {
   "cell_type": "code",
   "execution_count": 23,
   "id": "42d1d7fd-01fb-4cee-9fff-c47e83626b15",
   "metadata": {},
   "outputs": [
    {
     "data": {
      "text/html": [
       "<div>\n",
       "<style scoped>\n",
       "    .dataframe tbody tr th:only-of-type {\n",
       "        vertical-align: middle;\n",
       "    }\n",
       "\n",
       "    .dataframe tbody tr th {\n",
       "        vertical-align: top;\n",
       "    }\n",
       "\n",
       "    .dataframe thead th {\n",
       "        text-align: right;\n",
       "    }\n",
       "</style>\n",
       "<table border=\"1\" class=\"dataframe\">\n",
       "  <thead>\n",
       "    <tr style=\"text-align: right;\">\n",
       "      <th></th>\n",
       "      <th>step</th>\n",
       "      <th>E</th>\n",
       "      <th>M</th>\n",
       "      <th>T</th>\n",
       "      <th>J</th>\n",
       "      <th>L</th>\n",
       "      <th>E/N</th>\n",
       "      <th>M/N</th>\n",
       "    </tr>\n",
       "    <tr>\n",
       "      <th>T/J</th>\n",
       "      <th></th>\n",
       "      <th></th>\n",
       "      <th></th>\n",
       "      <th></th>\n",
       "      <th></th>\n",
       "      <th></th>\n",
       "      <th></th>\n",
       "      <th></th>\n",
       "    </tr>\n",
       "  </thead>\n",
       "  <tbody>\n",
       "    <tr>\n",
       "      <th>0.2</th>\n",
       "      <td>105000.0</td>\n",
       "      <td>-400.000000</td>\n",
       "      <td>100.000000</td>\n",
       "      <td>0.2</td>\n",
       "      <td>1.0</td>\n",
       "      <td>10.0</td>\n",
       "      <td>-4.000000</td>\n",
       "      <td>1.000000</td>\n",
       "    </tr>\n",
       "    <tr>\n",
       "      <th>0.4</th>\n",
       "      <td>105000.0</td>\n",
       "      <td>-400.000000</td>\n",
       "      <td>100.000000</td>\n",
       "      <td>0.4</td>\n",
       "      <td>1.0</td>\n",
       "      <td>10.0</td>\n",
       "      <td>-4.000000</td>\n",
       "      <td>1.000000</td>\n",
       "    </tr>\n",
       "    <tr>\n",
       "      <th>0.6</th>\n",
       "      <td>105000.0</td>\n",
       "      <td>-399.997642</td>\n",
       "      <td>99.999705</td>\n",
       "      <td>0.6</td>\n",
       "      <td>1.0</td>\n",
       "      <td>10.0</td>\n",
       "      <td>-3.999976</td>\n",
       "      <td>0.999997</td>\n",
       "    </tr>\n",
       "    <tr>\n",
       "      <th>0.8</th>\n",
       "      <td>105000.0</td>\n",
       "      <td>-399.923115</td>\n",
       "      <td>-99.990326</td>\n",
       "      <td>0.8</td>\n",
       "      <td>1.0</td>\n",
       "      <td>10.0</td>\n",
       "      <td>-3.999231</td>\n",
       "      <td>0.999903</td>\n",
       "    </tr>\n",
       "    <tr>\n",
       "      <th>1.0</th>\n",
       "      <td>105000.0</td>\n",
       "      <td>-399.440629</td>\n",
       "      <td>-99.928600</td>\n",
       "      <td>1.0</td>\n",
       "      <td>1.0</td>\n",
       "      <td>10.0</td>\n",
       "      <td>-3.994406</td>\n",
       "      <td>0.999286</td>\n",
       "    </tr>\n",
       "  </tbody>\n",
       "</table>\n",
       "</div>"
      ],
      "text/plain": [
       "         step           E           M    T    J     L       E/N       M/N\n",
       "T/J                                                                      \n",
       "0.2  105000.0 -400.000000  100.000000  0.2  1.0  10.0 -4.000000  1.000000\n",
       "0.4  105000.0 -400.000000  100.000000  0.4  1.0  10.0 -4.000000  1.000000\n",
       "0.6  105000.0 -399.997642   99.999705  0.6  1.0  10.0 -3.999976  0.999997\n",
       "0.8  105000.0 -399.923115  -99.990326  0.8  1.0  10.0 -3.999231  0.999903\n",
       "1.0  105000.0 -399.440629  -99.928600  1.0  1.0  10.0 -3.994406  0.999286"
      ]
     },
     "execution_count": 23,
     "metadata": {},
     "output_type": "execute_result"
    }
   ],
   "source": [
    "means.head()"
   ]
  },
  {
   "cell_type": "code",
   "execution_count": 24,
   "id": "b45ccaa1-2944-4c7a-ac4e-c15198c45b16",
   "metadata": {},
   "outputs": [
    {
     "data": {
      "image/png": "[encoded data removed]",
      "text/plain": [
       "<Figure size 432x288 with 1 Axes>"
      ]
     },
     "metadata": {
      "needs_background": "light"
     },
     "output_type": "display_data"
    }
   ],
   "source": [
    "ax = sns.scatterplot(data = df[df[\"step\"]>neq], x = \"T/J\", y = \"E/N\", alpha = 0.005)\n",
    "ax = sns.scatterplot(data = means, x = \"T/J\", y = \"E/N\", color = \"black\", alpha = 1)"
   ]
  },
  {
   "cell_type": "code",
   "execution_count": 27,
   "id": "d6ce153a-4179-49e7-a4fd-cc26cb00899d",
   "metadata": {},
   "outputs": [
    {
     "data": {
      "image/png": "[encoded data removed]",
      "text/plain": [
       "<Figure size 432x288 with 1 Axes>"
      ]
     },
     "metadata": {
      "needs_background": "light"
     },
     "output_type": "display_data"
    }
   ],
   "source": [
    "ax = sns.scatterplot(data = df[df[\"step\"]>neq], x = \"T/J\", y = \"M/N\", alpha = 0.005)\n",
    "ax = sns.scatterplot(data = means, x = \"T/J\", y = \"M/N\", color = \"black\", alpha = 1)"
   ]
  },
  {
   "cell_type": "code",
   "execution_count": 42,
   "id": "b5b02532-a6df-4c18-977e-5879a06a78cd",
   "metadata": {},
   "outputs": [],
   "source": [
    "df_sparse = df[df.index % 500 == 0]"
   ]
  },
  {
   "cell_type": "code",
   "execution_count": 43,
   "id": "10c86a60-84cd-48a0-9383-1c0abba6337e",
   "metadata": {},
   "outputs": [
    {
     "data": {
      "image/png": "[encoded data removed]",
      "text/plain": [
       "<Figure size 432x288 with 1 Axes>"
      ]
     },
     "metadata": {
      "needs_background": "light"
     },
     "output_type": "display_data"
    }
   ],
   "source": [
    "ax = sns.scatterplot(data = df_sparse[df_sparse[\"step\"]>neq], x = \"T/J\", y = \"E/N\", alpha = 0.1)\n",
    "ax = sns.scatterplot(data = means, x = \"T/J\", y = \"E/N\", color = \"black\", alpha = 1)"
   ]
  },
  {
   "cell_type": "code",
   "execution_count": 44,
   "id": "3bfbcb13-d3e0-4539-af72-a4f1fb3468b3",
   "metadata": {},
   "outputs": [
    {
     "data": {
      "image/png": "[encoded data removed]",
      "text/plain": [
       "<Figure size 432x288 with 1 Axes>"
      ]
     },
     "metadata": {
      "needs_background": "light"
     },
     "output_type": "display_data"
    }
   ],
   "source": [
    "ax = sns.scatterplot(data = df_sparse[df_sparse[\"step\"]>neq], x = \"T/J\", y = \"M/N\", alpha = 0.1)\n",
    "ax = sns.scatterplot(data = means, x = \"T/J\", y = \"M/N\", color = \"black\", alpha = 1)"
   ]
  },
  {
   "cell_type": "code",
   "execution_count": null,
   "id": "059d533e-284a-4059-aec2-2978aa1b15c8",
   "metadata": {},
   "outputs": [],
   "source": []
  }
 ],
 "metadata": {
  "kernelspec": {
   "display_name": "Python 3 (ipykernel)",
   "language": "python",
   "name": "python3"
  },
  "language_info": {
   "codemirror_mode": {
    "name": "ipython",
    "version": 3
   },
   "file_extension": ".py",
   "mimetype": "text/x-python",
   "name": "python",
   "nbconvert_exporter": "python",
   "pygments_lexer": "ipython3",
   "version": "3.8.10"
  }
 },
 "nbformat": 4,
 "nbformat_minor": 5
}
